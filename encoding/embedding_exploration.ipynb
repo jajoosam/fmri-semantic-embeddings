{
 "cells": [
  {
   "cell_type": "code",
   "execution_count": 112,
   "id": "41330cb8",
   "metadata": {},
   "outputs": [],
   "source": [
    "import os\n",
    "import sys\n",
    "import numpy as np\n",
    "import json\n",
    "import pathlib\n",
    "import h5py\n",
    "\n",
    "from ridge_utils.stimulus_utils import load_textgrids, load_simulated_trfiles\n",
    "from ridge_utils.dsutils import make_semantic_model, make_word_ds, make_phoneme_ds\n",
    "\n",
    "\n",
    "def get_story_wordseqs(stories):\n",
    "    grids = load_textgrids(stories)\n",
    "    with open(\"/home/jajoosam/data/ds003020/derivative/respdict.json\", \"r\") as f: # change this path!\n",
    "        respdict = json.load(f)\n",
    "    trfiles = load_simulated_trfiles(respdict)\n",
    "    wordseqs = make_word_ds(grids, trfiles)\n",
    "    return wordseqs\n",
    "\n",
    "def get_response(stories, subject=\"UTS01\"):\n",
    "    \"\"\"Get the subject\"s fMRI response for stories.\"\"\"\n",
    "    main_path = pathlib.Path(os.path.join(os.getcwd())).parent.parent.resolve()\n",
    "    subject_dir = \"/home/jajoosam/data/ds003020/derivative/preprocessed_data/%s\" % subject # change this path!\n",
    "    base = os.path.join(main_path, subject_dir)\n",
    "    resp = []\n",
    "    for story in stories:\n",
    "        resp_path = os.path.join(base, \"%s.hf5\" % story)\n",
    "        hf = h5py.File(resp_path, \"r\")\n",
    "        resp.extend(hf[\"data\"][:])\n",
    "        hf.close()\n",
    "    return np.array(resp)"
   ]
  },
  {
   "cell_type": "code",
   "execution_count": 113,
   "id": "d6763501",
   "metadata": {},
   "outputs": [],
   "source": [
    "stories = [\"naked\"]"
   ]
  },
  {
   "cell_type": "code",
   "execution_count": 114,
   "id": "595cb0ed",
   "metadata": {},
   "outputs": [],
   "source": [
    "word_sequences = get_story_wordseqs(stories)\n",
    "brain_response = get_response(stories)"
   ]
  },
  {
   "cell_type": "code",
   "execution_count": 115,
   "id": "49fdd707",
   "metadata": {},
   "outputs": [
    {
     "data": {
      "text/plain": [
       "(422, 81126)"
      ]
     },
     "execution_count": 115,
     "metadata": {},
     "output_type": "execute_result"
    }
   ],
   "source": [
    "brain_response.shape"
   ]
  },
  {
   "cell_type": "code",
   "execution_count": 116,
   "id": "22a3e028",
   "metadata": {},
   "outputs": [],
   "source": [
    "story = word_sequences[\"naked\"]"
   ]
  },
  {
   "cell_type": "code",
   "execution_count": 117,
   "id": "7a41b93a",
   "metadata": {},
   "outputs": [
    {
     "name": "stderr",
     "output_type": "stream",
     "text": [
      "/tmp/ipykernel_4013246/3372831984.py:1: VisibleDeprecationWarning: Creating an ndarray from ragged nested sequences (which is a list-or-tuple of lists-or-tuples-or ndarrays with different lengths or shapes) is deprecated. If you meant to do this, you must specify 'dtype=object' when creating the ndarray.\n",
      "  chunks = np.array([np.array(word_sequences[story].chunks()[10:-5]) for story in stories])\n"
     ]
    }
   ],
   "source": [
    "chunks = np.array([np.array(word_sequences[story].chunks()[10:-5]) for story in stories])"
   ]
  },
  {
   "cell_type": "code",
   "execution_count": 118,
   "id": "b6b8743f",
   "metadata": {},
   "outputs": [],
   "source": [
    "chunks = chunks[0]"
   ]
  },
  {
   "cell_type": "code",
   "execution_count": 119,
   "id": "bab6c73e",
   "metadata": {},
   "outputs": [
    {
     "data": {
      "text/plain": [
       "'s o'"
      ]
     },
     "execution_count": 119,
     "metadata": {},
     "output_type": "execute_result"
    }
   ],
   "source": [
    "\" \".join(list(chunks[0])[0])"
   ]
  },
  {
   "cell_type": "code",
   "execution_count": 120,
   "id": "7c9196c0",
   "metadata": {},
   "outputs": [
    {
     "name": "stdout",
     "output_type": "stream",
     "text": [
      "(422, 768)\n"
     ]
    }
   ],
   "source": [
    "from sentence_transformers import SentenceTransformer\n",
    "sentences = [\" \".join(list(chunk)) for chunk in chunks]\n",
    "\n",
    "model = SentenceTransformer('sentence-transformers/msmarco-distilbert-base-v2')\n",
    "bert_embeddings = model.encode(sentences)\n",
    "print(bert_embeddings.shape)"
   ]
  },
  {
   "cell_type": "code",
   "execution_count": 121,
   "id": "bd148ac3",
   "metadata": {},
   "outputs": [],
   "source": [
    "b = []\n",
    "import math\n",
    "\n",
    "for fmri in brain_response:\n",
    "    app = []\n",
    "    for el in fmri:\n",
    "        if(not math.isnan(el)):\n",
    "            app.append(el)\n",
    "    b.append(app)"
   ]
  },
  {
   "cell_type": "code",
   "execution_count": 122,
   "id": "5304fe4b",
   "metadata": {},
   "outputs": [],
   "source": [
    "brain_response = np.array(b)"
   ]
  },
  {
   "cell_type": "code",
   "execution_count": 123,
   "id": "f2a9c8e9",
   "metadata": {},
   "outputs": [],
   "source": [
    "from sklearn.decomposition import PCA\n",
    "from sklearn.neighbors import NearestNeighbors\n",
    "\n",
    "k = 5 # number of neighbours found\n",
    "n = 50 # number of latent dimensions formed with PCA"
   ]
  },
  {
   "cell_type": "code",
   "execution_count": 124,
   "id": "fe0a1186",
   "metadata": {},
   "outputs": [],
   "source": [
    "def get_accuracy(brain_response, bert_embeddings, k, n):\n",
    "    pca = PCA(n_components=n)\n",
    "    brainPrincipalComponents = pca.fit_transform(brain_response)\n",
    "    \n",
    "    brain_nbrs = NearestNeighbors(n_neighbors=k, algorithm='ball_tree').fit(brainPrincipalComponents)\n",
    "    bert_nbrs = NearestNeighbors(n_neighbors=k, algorithm='ball_tree').fit(bert_embeddings)\n",
    "\n",
    "    _, brain_indices = brain_nbrs.kneighbors(brainPrincipalComponents)\n",
    "    _, bert_indices = bert_nbrs.kneighbors(bert_embeddings)\n",
    "    \n",
    "    accuracy = []\n",
    "\n",
    "    for i in range(len(bert_indices)):\n",
    "        brain_knn = brain_indices[i]\n",
    "        bert_knn = bert_indices[i]\n",
    "        correct = 0\n",
    "        for nbr in brain_knn:\n",
    "            if nbr in bert_knn:\n",
    "                correct+=1\n",
    "        accuracy.append(correct/k) \n",
    "    accuracy = np.array(accuracy)\n",
    "    \n",
    "    return accuracy.mean()"
   ]
  },
  {
   "cell_type": "code",
   "execution_count": 125,
   "id": "d14a5e2a",
   "metadata": {},
   "outputs": [
    {
     "data": {
      "text/plain": [
       "0.22037914691943128"
      ]
     },
     "execution_count": 125,
     "metadata": {},
     "output_type": "execute_result"
    }
   ],
   "source": [
    "get_accuracy(brain_response, bert_embeddings, k, n)"
   ]
  },
  {
   "cell_type": "code",
   "execution_count": 150,
   "id": "9d2bac51",
   "metadata": {},
   "outputs": [],
   "source": [
    "import matplotlib.pyplot as plt\n",
    "\n",
    "k = 50 # default k\n",
    "n = 5 # default n\n",
    "\n",
    "k_list = np.arange(5, 300, 5)\n",
    "n_list = np.arange(10, 400, 50)"
   ]
  },
  {
   "cell_type": "code",
   "execution_count": 151,
   "id": "433eca84",
   "metadata": {},
   "outputs": [],
   "source": [
    "accuracy_with_k = []\n",
    "accuracy_with_n = []"
   ]
  },
  {
   "cell_type": "code",
   "execution_count": 152,
   "id": "87e09247",
   "metadata": {},
   "outputs": [],
   "source": [
    "for temp_k in k_list:\n",
    "    accuracy = get_accuracy(brain_response, bert_embeddings, temp_k, n)\n",
    "    accuracy_with_k.append(accuracy)"
   ]
  },
  {
   "cell_type": "code",
   "execution_count": 153,
   "id": "c965f56c",
   "metadata": {},
   "outputs": [
    {
     "data": {
      "image/png": "[encoded data removed]",
      "text/plain": [
       "<Figure size 640x480 with 1 Axes>"
      ]
     },
     "metadata": {},
     "output_type": "display_data"
    }
   ],
   "source": [
    "plt.plot(k_list, accuracy_with_k)\n",
    "plt.ylabel(\"accuracy\")\n",
    "plt.xlabel(f\"k (n={n})\")\n",
    "plt.show()"
   ]
  },
  {
   "cell_type": "code",
   "execution_count": 148,
   "id": "bd50844a",
   "metadata": {},
   "outputs": [],
   "source": [
    "for temp_n in n_list:\n",
    "    accuracy = get_accuracy(brain_response, bert_embeddings, k, temp_n)\n",
    "    accuracy_with_n.append(accuracy)"
   ]
  },
  {
   "cell_type": "code",
   "execution_count": 149,
   "id": "16e0261b",
   "metadata": {},
   "outputs": [
    {
     "data": {
      "image/png": "[encoded data removed]",
      "text/plain": [
       "<Figure size 640x480 with 1 Axes>"
      ]
     },
     "metadata": {},
     "output_type": "display_data"
    }
   ],
   "source": [
    "plt.plot(n_list, accuracy_with_n)\n",
    "plt.ylabel(\"accuracy\")\n",
    "plt.xlabel(f\"n (k={k})\")\n",
    "plt.show()"
   ]
  },
  {
   "cell_type": "code",
   "execution_count": null,
   "id": "c0003e6d",
   "metadata": {},
   "outputs": [],
   "source": []
  }
 ],
 "metadata": {
  "kernelspec": {
   "display_name": "Python 3 (ipykernel)",
   "language": "python",
   "name": "python3"
  },
  "language_info": {
   "codemirror_mode": {
    "name": "ipython",
    "version": 3
   },
   "file_extension": ".py",
   "mimetype": "text/x-python",
   "name": "python",
   "nbconvert_exporter": "python",
   "pygments_lexer": "ipython3",
   "version": "3.8.13"
  }
 },
 "nbformat": 4,
 "nbformat_minor": 5
}
