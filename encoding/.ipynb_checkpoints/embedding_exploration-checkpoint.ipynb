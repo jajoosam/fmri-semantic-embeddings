{
 "cells": [
  {
   "cell_type": "code",
   "execution_count": 8,
   "id": "41330cb8",
   "metadata": {},
   "outputs": [],
   "source": [
    "import os\n",
    "import sys\n",
    "import numpy as np\n",
    "import json\n",
    "import pathlib\n",
    "import h5py\n",
    "\n",
    "from ridge_utils.stimulus_utils import load_textgrids, load_simulated_trfiles\n",
    "from ridge_utils.dsutils import make_semantic_model, make_word_ds, make_phoneme_ds\n",
    "\n",
    "\n",
    "def get_story_wordseqs(stories):\n",
    "    grids = load_textgrids(stories)\n",
    "    with open(\"/home/jajoosam/data/ds003020/derivative/respdict.json\", \"r\") as f:\n",
    "        respdict = json.load(f)\n",
    "    trfiles = load_simulated_trfiles(respdict)\n",
    "    wordseqs = make_word_ds(grids, trfiles)\n",
    "    return wordseqs\n",
    "\n",
    "def get_response(stories, subject=\"UTS01\"):\n",
    "    \"\"\"Get the subject\"s fMRI response for stories.\"\"\"\n",
    "    main_path = pathlib.Path(os.path.join(os.getcwd())).parent.parent.resolve()\n",
    "    subject_dir = \"/home/jajoosam/data/ds003020/derivative/preprocessed_data/%s\" % subject\n",
    "    base = os.path.join(main_path, subject_dir)\n",
    "    resp = []\n",
    "    for story in stories:\n",
    "        resp_path = os.path.join(base, \"%s.hf5\" % story)\n",
    "        hf = h5py.File(resp_path, \"r\")\n",
    "        resp.extend(hf[\"data\"][:])\n",
    "        hf.close()\n",
    "    return np.array(resp)"
   ]
  },
  {
   "cell_type": "code",
   "execution_count": 9,
   "id": "d6763501",
   "metadata": {},
   "outputs": [],
   "source": [
    "stories = [\"buck\"]"
   ]
  },
  {
   "cell_type": "code",
   "execution_count": 10,
   "id": "595cb0ed",
   "metadata": {},
   "outputs": [],
   "source": [
    "word_sequences = get_story_wordseqs(stories)\n",
    "brain_response = get_response(stories)"
   ]
  },
  {
   "cell_type": "code",
   "execution_count": 11,
   "id": "49fdd707",
   "metadata": {},
   "outputs": [
    {
     "data": {
      "text/plain": [
       "(332, 81126)"
      ]
     },
     "execution_count": 11,
     "metadata": {},
     "output_type": "execute_result"
    }
   ],
   "source": [
    "brain_response.shape"
   ]
  },
  {
   "cell_type": "code",
   "execution_count": 12,
   "id": "22a3e028",
   "metadata": {},
   "outputs": [],
   "source": [
    "story = word_sequences[\"buck\"]"
   ]
  },
  {
   "cell_type": "code",
   "execution_count": 13,
   "id": "7a41b93a",
   "metadata": {},
   "outputs": [
    {
     "name": "stderr",
     "output_type": "stream",
     "text": [
      "/tmp/ipykernel_3440798/753007858.py:1: VisibleDeprecationWarning: Creating an ndarray from ragged nested sequences (which is a list-or-tuple of lists-or-tuples-or ndarrays with different lengths or shapes) is deprecated. If you meant to do this, you must specify 'dtype=object' when creating the ndarray.\n",
      "  chunks = np.array(story.chunks()[10:-5])\n"
     ]
    }
   ],
   "source": [
    "chunks = np.array(story.chunks()[10:-5])"
   ]
  },
  {
   "cell_type": "code",
   "execution_count": 14,
   "id": "b6b8743f",
   "metadata": {},
   "outputs": [
    {
     "data": {
      "text/plain": [
       "(332,)"
      ]
     },
     "execution_count": 14,
     "metadata": {},
     "output_type": "execute_result"
    }
   ],
   "source": [
    "chunks.shape"
   ]
  },
  {
   "cell_type": "code",
   "execution_count": 15,
   "id": "bab6c73e",
   "metadata": {},
   "outputs": [],
   "source": [
    "### BERT embeddings"
   ]
  },
  {
   "cell_type": "code",
   "execution_count": 18,
   "id": "7c9196c0",
   "metadata": {},
   "outputs": [
    {
     "name": "stdout",
     "output_type": "stream",
     "text": [
      "(332, 768)\n"
     ]
    }
   ],
   "source": [
    "from sentence_transformers import SentenceTransformer\n",
    "sentences = [\" \".join(list(chunk)) for chunk in chunks]\n",
    "\n",
    "model = SentenceTransformer('sentence-transformers/msmarco-distilbert-base-v2')\n",
    "bert_embeddings = model.encode(sentences)\n",
    "print(bert_embeddings.shape)"
   ]
  },
  {
   "cell_type": "code",
   "execution_count": 19,
   "id": "2c77e766",
   "metadata": {},
   "outputs": [],
   "source": [
    "brain_response = brain_response"
   ]
  },
  {
   "cell_type": "code",
   "execution_count": 20,
   "id": "bd148ac3",
   "metadata": {},
   "outputs": [
    {
     "data": {
      "text/plain": [
       "(332, 81126)"
      ]
     },
     "execution_count": 20,
     "metadata": {},
     "output_type": "execute_result"
    }
   ],
   "source": [
    "brain_response.shape"
   ]
  },
  {
   "cell_type": "code",
   "execution_count": 21,
   "id": "f2a9c8e9",
   "metadata": {},
   "outputs": [],
   "source": [
    "from sklearn.decomposition import PCA\n"
   ]
  },
  {
   "cell_type": "code",
   "execution_count": 22,
   "id": "411eea42",
   "metadata": {},
   "outputs": [],
   "source": [
    "pca = PCA(n_components=2)\n",
    "brainPrincipalComponents = pca.fit_transform(brain_response)\n",
    "bertPrincipalComponents = pca.fit_transform(bert_embeddings)"
   ]
  },
  {
   "cell_type": "code",
   "execution_count": 23,
   "id": "283d8200",
   "metadata": {},
   "outputs": [
    {
     "data": {
      "text/plain": [
       "(332, 2)"
      ]
     },
     "execution_count": 23,
     "metadata": {},
     "output_type": "execute_result"
    }
   ],
   "source": [
    "bertPrincipalComponents.shape"
   ]
  },
  {
   "cell_type": "code",
   "execution_count": null,
   "id": "1138a42f",
   "metadata": {},
   "outputs": [],
   "source": [
    "from sklearn.neighbors import NearestNeighbors"
   ]
  },
  {
   "cell_type": "code",
   "execution_count": null,
   "id": "93834a80",
   "metadata": {},
   "outputs": [],
   "source": []
  },
  {
   "cell_type": "code",
   "execution_count": null,
   "id": "51d9bfb7",
   "metadata": {},
   "outputs": [],
   "source": []
  },
  {
   "cell_type": "code",
   "execution_count": null,
   "id": "cab7db92",
   "metadata": {},
   "outputs": [],
   "source": []
  },
  {
   "cell_type": "code",
   "execution_count": null,
   "id": "dff5a311",
   "metadata": {},
   "outputs": [],
   "source": []
  },
  {
   "cell_type": "code",
   "execution_count": 28,
   "id": "4d909cca",
   "metadata": {},
   "outputs": [],
   "source": [
    "import matplotlib.pyplot as plt"
   ]
  },
  {
   "cell_type": "code",
   "execution_count": 34,
   "id": "1f35cf03",
   "metadata": {},
   "outputs": [
    {
     "data": {
      "text/plain": [
       "<matplotlib.collections.PathCollection at 0x7fb5706ddf10>"
      ]
     },
     "execution_count": 34,
     "metadata": {},
     "output_type": "execute_result"
    },
    {
     "data": {
      "image/png": "[encoded data removed]",
      "text/plain": [
       "<Figure size 640x480 with 1 Axes>"
      ]
     },
     "metadata": {},
     "output_type": "display_data"
    }
   ],
   "source": [
    "plt.scatter(brainPrincipalComponents.T[0], brainPrincipalComponents.T[1])"
   ]
  },
  {
   "cell_type": "code",
   "execution_count": 35,
   "id": "cb844060",
   "metadata": {},
   "outputs": [
    {
     "data": {
      "text/plain": [
       "<matplotlib.collections.PathCollection at 0x7fb5705e34c0>"
      ]
     },
     "execution_count": 35,
     "metadata": {},
     "output_type": "execute_result"
    },
    {
     "data": {
      "image/png": "[encoded data removed]",
      "text/plain": [
       "<Figure size 640x480 with 1 Axes>"
      ]
     },
     "metadata": {},
     "output_type": "display_data"
    }
   ],
   "source": [
    "plt.scatter(bertPrincipalComponents.T[0], bertPrincipalComponents.T[1])"
   ]
  },
  {
   "cell_type": "code",
   "execution_count": null,
   "id": "6bcd0ce8",
   "metadata": {},
   "outputs": [],
   "source": [
    "from sklearn.neighbors import NearestNeighbors"
   ]
  }
 ],
 "metadata": {
  "kernelspec": {
   "display_name": "Python 3 (ipykernel)",
   "language": "python",
   "name": "python3"
  },
  "language_info": {
   "codemirror_mode": {
    "name": "ipython",
    "version": 3
   },
   "file_extension": ".py",
   "mimetype": "text/x-python",
   "name": "python",
   "nbconvert_exporter": "python",
   "pygments_lexer": "ipython3",
   "version": "3.8.13"
  }
 },
 "nbformat": 4,
 "nbformat_minor": 5
}
